{
 "cells": [
  {
   "cell_type": "markdown",
   "id": "1941fa8c",
   "metadata": {},
   "source": [
    "# MXN442 Assignment 1\n",
    "- Student Number: 10515402\n",
    "- First Name: Aidan\n",
    "- Last Name: Lockwood"
   ]
  },
  {
   "cell_type": "markdown",
   "id": "0a64e921",
   "metadata": {},
   "source": [
    "## Assignment Setup\n",
    "Installing required libraries"
   ]
  },
  {
   "cell_type": "code",
   "execution_count": 49,
   "id": "f3d972ef",
   "metadata": {},
   "outputs": [],
   "source": [
    "import numpy as np\n",
    "import matplotlib.pyplot as plt\n",
    "import pandas as pd\n",
    "from ISLP.models import (ModelSpec as MS,\n",
    "                         Stepwise,\n",
    "                         sklearn_selected,\n",
    "                         sklearn_selection_path)\n",
    "import statsmodels.api as sm\n",
    "import seaborn as sns\n",
    "from functools import partial\n",
    "\n",
    "from sklearn.preprocessing import StandardScaler\n"
   ]
  },
  {
   "cell_type": "markdown",
   "id": "1ae33139",
   "metadata": {},
   "source": [
    "Loading required data"
   ]
  },
  {
   "cell_type": "code",
   "execution_count": 2,
   "id": "13a285f8",
   "metadata": {},
   "outputs": [
    {
     "data": {
      "text/html": [
       "<div>\n",
       "<style scoped>\n",
       "    .dataframe tbody tr th:only-of-type {\n",
       "        vertical-align: middle;\n",
       "    }\n",
       "\n",
       "    .dataframe tbody tr th {\n",
       "        vertical-align: top;\n",
       "    }\n",
       "\n",
       "    .dataframe thead th {\n",
       "        text-align: right;\n",
       "    }\n",
       "</style>\n",
       "<table border=\"1\" class=\"dataframe\">\n",
       "  <thead>\n",
       "    <tr style=\"text-align: right;\">\n",
       "      <th></th>\n",
       "      <th>age</th>\n",
       "      <th>income</th>\n",
       "      <th>credit_score</th>\n",
       "      <th>years_employed</th>\n",
       "      <th>debt_to_income</th>\n",
       "      <th>num_credit_cards</th>\n",
       "      <th>education</th>\n",
       "      <th>marital_status</th>\n",
       "      <th>credit_limit</th>\n",
       "      <th>loan_default</th>\n",
       "    </tr>\n",
       "  </thead>\n",
       "  <tbody>\n",
       "    <tr>\n",
       "      <th>0</th>\n",
       "      <td>52</td>\n",
       "      <td>25874.0</td>\n",
       "      <td>569</td>\n",
       "      <td>3.9</td>\n",
       "      <td>0.269</td>\n",
       "      <td>5</td>\n",
       "      <td>1</td>\n",
       "      <td>0</td>\n",
       "      <td>9131</td>\n",
       "      <td>0</td>\n",
       "    </tr>\n",
       "    <tr>\n",
       "      <th>1</th>\n",
       "      <td>43</td>\n",
       "      <td>NaN</td>\n",
       "      <td>613</td>\n",
       "      <td>0.1</td>\n",
       "      <td>0.059</td>\n",
       "      <td>5</td>\n",
       "      <td>0</td>\n",
       "      <td>1</td>\n",
       "      <td>9690</td>\n",
       "      <td>0</td>\n",
       "    </tr>\n",
       "    <tr>\n",
       "      <th>2</th>\n",
       "      <td>55</td>\n",
       "      <td>20000.0</td>\n",
       "      <td>578</td>\n",
       "      <td>18.3</td>\n",
       "      <td>0.088</td>\n",
       "      <td>2</td>\n",
       "      <td>2</td>\n",
       "      <td>1</td>\n",
       "      <td>15311</td>\n",
       "      <td>0</td>\n",
       "    </tr>\n",
       "    <tr>\n",
       "      <th>3</th>\n",
       "      <td>68</td>\n",
       "      <td>27887.0</td>\n",
       "      <td>663</td>\n",
       "      <td>6.0</td>\n",
       "      <td>0.182</td>\n",
       "      <td>3</td>\n",
       "      <td>3</td>\n",
       "      <td>0</td>\n",
       "      <td>13221</td>\n",
       "      <td>0</td>\n",
       "    </tr>\n",
       "    <tr>\n",
       "      <th>4</th>\n",
       "      <td>41</td>\n",
       "      <td>65268.0</td>\n",
       "      <td>794</td>\n",
       "      <td>15.2</td>\n",
       "      <td>0.162</td>\n",
       "      <td>3</td>\n",
       "      <td>3</td>\n",
       "      <td>0</td>\n",
       "      <td>24805</td>\n",
       "      <td>0</td>\n",
       "    </tr>\n",
       "    <tr>\n",
       "      <th>...</th>\n",
       "      <td>...</td>\n",
       "      <td>...</td>\n",
       "      <td>...</td>\n",
       "      <td>...</td>\n",
       "      <td>...</td>\n",
       "      <td>...</td>\n",
       "      <td>...</td>\n",
       "      <td>...</td>\n",
       "      <td>...</td>\n",
       "      <td>...</td>\n",
       "    </tr>\n",
       "    <tr>\n",
       "      <th>4995</th>\n",
       "      <td>44</td>\n",
       "      <td>102835.0</td>\n",
       "      <td>541</td>\n",
       "      <td>3.5</td>\n",
       "      <td>0.134</td>\n",
       "      <td>3</td>\n",
       "      <td>0</td>\n",
       "      <td>1</td>\n",
       "      <td>22262</td>\n",
       "      <td>0</td>\n",
       "    </tr>\n",
       "    <tr>\n",
       "      <th>4996</th>\n",
       "      <td>56</td>\n",
       "      <td>20000.0</td>\n",
       "      <td>798</td>\n",
       "      <td>NaN</td>\n",
       "      <td>0.288</td>\n",
       "      <td>3</td>\n",
       "      <td>2</td>\n",
       "      <td>1</td>\n",
       "      <td>8700</td>\n",
       "      <td>0</td>\n",
       "    </tr>\n",
       "    <tr>\n",
       "      <th>4997</th>\n",
       "      <td>80</td>\n",
       "      <td>20656.0</td>\n",
       "      <td>807</td>\n",
       "      <td>7.6</td>\n",
       "      <td>0.252</td>\n",
       "      <td>5</td>\n",
       "      <td>1</td>\n",
       "      <td>1</td>\n",
       "      <td>9876</td>\n",
       "      <td>0</td>\n",
       "    </tr>\n",
       "    <tr>\n",
       "      <th>4998</th>\n",
       "      <td>57</td>\n",
       "      <td>53993.0</td>\n",
       "      <td>544</td>\n",
       "      <td>3.4</td>\n",
       "      <td>0.422</td>\n",
       "      <td>2</td>\n",
       "      <td>1</td>\n",
       "      <td>1</td>\n",
       "      <td>8790</td>\n",
       "      <td>0</td>\n",
       "    </tr>\n",
       "    <tr>\n",
       "      <th>4999</th>\n",
       "      <td>32</td>\n",
       "      <td>60810.0</td>\n",
       "      <td>632</td>\n",
       "      <td>3.0</td>\n",
       "      <td>0.038</td>\n",
       "      <td>4</td>\n",
       "      <td>1</td>\n",
       "      <td>0</td>\n",
       "      <td>16616</td>\n",
       "      <td>0</td>\n",
       "    </tr>\n",
       "  </tbody>\n",
       "</table>\n",
       "<p>5000 rows × 10 columns</p>\n",
       "</div>"
      ],
      "text/plain": [
       "      age    income  credit_score  years_employed  debt_to_income  \\\n",
       "0      52   25874.0           569             3.9           0.269   \n",
       "1      43       NaN           613             0.1           0.059   \n",
       "2      55   20000.0           578            18.3           0.088   \n",
       "3      68   27887.0           663             6.0           0.182   \n",
       "4      41   65268.0           794            15.2           0.162   \n",
       "...   ...       ...           ...             ...             ...   \n",
       "4995   44  102835.0           541             3.5           0.134   \n",
       "4996   56   20000.0           798             NaN           0.288   \n",
       "4997   80   20656.0           807             7.6           0.252   \n",
       "4998   57   53993.0           544             3.4           0.422   \n",
       "4999   32   60810.0           632             3.0           0.038   \n",
       "\n",
       "      num_credit_cards  education  marital_status  credit_limit  loan_default  \n",
       "0                    5          1               0          9131             0  \n",
       "1                    5          0               1          9690             0  \n",
       "2                    2          2               1         15311             0  \n",
       "3                    3          3               0         13221             0  \n",
       "4                    3          3               0         24805             0  \n",
       "...                ...        ...             ...           ...           ...  \n",
       "4995                 3          0               1         22262             0  \n",
       "4996                 3          2               1          8700             0  \n",
       "4997                 5          1               1          9876             0  \n",
       "4998                 2          1               1          8790             0  \n",
       "4999                 4          1               0         16616             0  \n",
       "\n",
       "[5000 rows x 10 columns]"
      ]
     },
     "execution_count": 2,
     "metadata": {},
     "output_type": "execute_result"
    }
   ],
   "source": [
    "df = pd.read_csv('data/assignment1_data.csv')\n",
    "df"
   ]
  },
  {
   "cell_type": "markdown",
   "id": "4516b1cc",
   "metadata": {},
   "source": [
    "## Question 1: Linear Regression and Model Selection (12 Marks)\n",
    "\n",
    "Banks need to set appropriate credit limits for customers based on their financial profiles. Setting limits too low may result in lost revenue opportunities, while setting them too high increases exposure to potential losses. The challenge is to develop a model that can accurately predict optimal credit limits using customer demographic, financial, and behavioural characteristics."
   ]
  },
  {
   "cell_type": "markdown",
   "id": "aadf4dad",
   "metadata": {},
   "source": [
    "<b>a) Multiple Linear Regression (3 marks) </b>\n",
    "- Handle missing values using mean imputation \n",
    "- Split data into training (70%) and test (30%) sets. Fit a multiple linear regression model using all features to predict `credit_limit` (1) \n",
    "- Interpret the coefficients of the three most significant predictors (1)"
   ]
  },
  {
   "cell_type": "markdown",
   "id": "e39453c2",
   "metadata": {},
   "source": [
    "Handling the missing values using mean imputation"
   ]
  },
  {
   "cell_type": "code",
   "execution_count": 3,
   "id": "6e3ff9be",
   "metadata": {},
   "outputs": [
    {
     "name": "stdout",
     "output_type": "stream",
     "text": [
      "Column age has 0 missing values\n",
      "Column income has 150 missing values\n",
      "Column credit_score has 0 missing values\n",
      "Column years_employed has 150 missing values\n",
      "Column debt_to_income has 0 missing values\n",
      "Column num_credit_cards has 0 missing values\n",
      "Column education has 0 missing values\n",
      "Column marital_status has 0 missing values\n",
      "Column credit_limit has 0 missing values\n",
      "Column loan_default has 0 missing values\n"
     ]
    }
   ],
   "source": [
    "# Checking for the missing values in the dataset\n",
    "data_columns = df.columns.to_list()\n",
    "\n",
    "for column in data_columns:\n",
    "    print(f'Column {column} has {df[column].isna().sum()} missing values')"
   ]
  },
  {
   "cell_type": "markdown",
   "id": "4782acb5",
   "metadata": {},
   "source": [
    "It appears that both `income` and `years_employed` have missing values. Thus the mean will be calculated for those values. The mean for each variable will be input into the NaN values"
   ]
  },
  {
   "cell_type": "code",
   "execution_count": 4,
   "id": "b8530b40",
   "metadata": {},
   "outputs": [
    {
     "data": {
      "text/plain": [
       "np.float64(51458.36804123711)"
      ]
     },
     "execution_count": 4,
     "metadata": {},
     "output_type": "execute_result"
    }
   ],
   "source": [
    "df['income'].mean()"
   ]
  },
  {
   "cell_type": "code",
   "execution_count": null,
   "id": "e8dc16da",
   "metadata": {},
   "outputs": [
    {
     "name": "stdout",
     "output_type": "stream",
     "text": [
      "Column age has 0 missing values\n",
      "Column income has 0 missing values\n",
      "Column credit_score has 0 missing values\n",
      "Column years_employed has 0 missing values\n",
      "Column debt_to_income has 0 missing values\n",
      "Column num_credit_cards has 0 missing values\n",
      "Column education has 0 missing values\n",
      "Column marital_status has 0 missing values\n",
      "Column credit_limit has 0 missing values\n",
      "Column loan_default has 0 missing values\n"
     ]
    }
   ],
   "source": [
    "# Calculating the mean values \n",
    "mean_income = round(df['income'].mean(), 2)\n",
    "mean_years_employed = round(df['years_employed'].mean(), 2)\n",
    "\n",
    "# Replacing the NaN values for each column with their respective means \n",
    "df['income'] = df['income'].fillna(mean_income)\n",
    "df['years_employed'] = df['years_employed'].fillna(mean_years_employed)\n",
    "\n",
    "# Checking the fill worked\n",
    "for column in data_columns:\n",
    "    print(f'Column {column} has {df[column].isna().sum()} missing values')"
   ]
  },
  {
   "cell_type": "markdown",
   "id": "336b658a",
   "metadata": {},
   "source": [
    "The mean imputation has been completed."
   ]
  },
  {
   "cell_type": "markdown",
   "id": "f2bf3cd3",
   "metadata": {},
   "source": [
    "Going to also convert the categorical variables into the required data types"
   ]
  },
  {
   "cell_type": "code",
   "execution_count": 17,
   "id": "ca8b1ab2",
   "metadata": {},
   "outputs": [],
   "source": [
    "categorical_variables = [\n",
    "    'education',\n",
    "    'marital_status',\n",
    "    'loan_default'\n",
    "]\n",
    "\n",
    "for index, column in enumerate(data_columns):\n",
    "    if column in categorical_variables:\n",
    "        df[column] = df[column].astype('category')"
   ]
  },
  {
   "cell_type": "code",
   "execution_count": 18,
   "id": "371a410b",
   "metadata": {},
   "outputs": [
    {
     "data": {
      "text/plain": [
       "age                    int64\n",
       "income               float64\n",
       "credit_score           int64\n",
       "years_employed       float64\n",
       "debt_to_income       float64\n",
       "num_credit_cards       int64\n",
       "education           category\n",
       "marital_status      category\n",
       "credit_limit           int64\n",
       "loan_default        category\n",
       "dtype: object"
      ]
     },
     "execution_count": 18,
     "metadata": {},
     "output_type": "execute_result"
    }
   ],
   "source": [
    "df.dtypes"
   ]
  },
  {
   "cell_type": "markdown",
   "id": "0dc837f6",
   "metadata": {},
   "source": [
    "Now time to split data into training and test splits, then generate a multiple linear regression model, fitting it to the training data."
   ]
  },
  {
   "cell_type": "code",
   "execution_count": 6,
   "id": "d48bc64a",
   "metadata": {},
   "outputs": [],
   "source": [
    "df_size = df.shape[0]\n",
    "\n",
    "training_size = int(df_size * 0.7)\n",
    "test_size = df_size - training_size\n",
    "\n",
    "training_data = df[0:training_size]\n",
    "test_data = df[training_size:]"
   ]
  },
  {
   "cell_type": "code",
   "execution_count": 7,
   "id": "dff331a9",
   "metadata": {},
   "outputs": [
    {
     "data": {
      "text/html": [
       "<div>\n",
       "<style scoped>\n",
       "    .dataframe tbody tr th:only-of-type {\n",
       "        vertical-align: middle;\n",
       "    }\n",
       "\n",
       "    .dataframe tbody tr th {\n",
       "        vertical-align: top;\n",
       "    }\n",
       "\n",
       "    .dataframe thead th {\n",
       "        text-align: right;\n",
       "    }\n",
       "</style>\n",
       "<table border=\"1\" class=\"dataframe\">\n",
       "  <thead>\n",
       "    <tr style=\"text-align: right;\">\n",
       "      <th></th>\n",
       "      <th>age</th>\n",
       "      <th>income</th>\n",
       "      <th>credit_score</th>\n",
       "      <th>years_employed</th>\n",
       "      <th>debt_to_income</th>\n",
       "      <th>num_credit_cards</th>\n",
       "      <th>education</th>\n",
       "      <th>marital_status</th>\n",
       "      <th>credit_limit</th>\n",
       "      <th>loan_default</th>\n",
       "    </tr>\n",
       "  </thead>\n",
       "  <tbody>\n",
       "    <tr>\n",
       "      <th>3500</th>\n",
       "      <td>63</td>\n",
       "      <td>269510.0</td>\n",
       "      <td>702</td>\n",
       "      <td>9.00</td>\n",
       "      <td>0.107</td>\n",
       "      <td>4</td>\n",
       "      <td>0</td>\n",
       "      <td>0</td>\n",
       "      <td>48686</td>\n",
       "      <td>0</td>\n",
       "    </tr>\n",
       "    <tr>\n",
       "      <th>3501</th>\n",
       "      <td>36</td>\n",
       "      <td>25303.0</td>\n",
       "      <td>678</td>\n",
       "      <td>2.70</td>\n",
       "      <td>0.628</td>\n",
       "      <td>1</td>\n",
       "      <td>2</td>\n",
       "      <td>0</td>\n",
       "      <td>2883</td>\n",
       "      <td>0</td>\n",
       "    </tr>\n",
       "    <tr>\n",
       "      <th>3502</th>\n",
       "      <td>46</td>\n",
       "      <td>165399.0</td>\n",
       "      <td>742</td>\n",
       "      <td>16.30</td>\n",
       "      <td>0.053</td>\n",
       "      <td>3</td>\n",
       "      <td>0</td>\n",
       "      <td>0</td>\n",
       "      <td>39412</td>\n",
       "      <td>0</td>\n",
       "    </tr>\n",
       "    <tr>\n",
       "      <th>3503</th>\n",
       "      <td>46</td>\n",
       "      <td>29421.0</td>\n",
       "      <td>715</td>\n",
       "      <td>11.00</td>\n",
       "      <td>0.039</td>\n",
       "      <td>3</td>\n",
       "      <td>1</td>\n",
       "      <td>1</td>\n",
       "      <td>14974</td>\n",
       "      <td>0</td>\n",
       "    </tr>\n",
       "    <tr>\n",
       "      <th>3504</th>\n",
       "      <td>37</td>\n",
       "      <td>20000.0</td>\n",
       "      <td>736</td>\n",
       "      <td>4.40</td>\n",
       "      <td>0.140</td>\n",
       "      <td>5</td>\n",
       "      <td>0</td>\n",
       "      <td>2</td>\n",
       "      <td>10242</td>\n",
       "      <td>0</td>\n",
       "    </tr>\n",
       "    <tr>\n",
       "      <th>...</th>\n",
       "      <td>...</td>\n",
       "      <td>...</td>\n",
       "      <td>...</td>\n",
       "      <td>...</td>\n",
       "      <td>...</td>\n",
       "      <td>...</td>\n",
       "      <td>...</td>\n",
       "      <td>...</td>\n",
       "      <td>...</td>\n",
       "      <td>...</td>\n",
       "    </tr>\n",
       "    <tr>\n",
       "      <th>4995</th>\n",
       "      <td>44</td>\n",
       "      <td>102835.0</td>\n",
       "      <td>541</td>\n",
       "      <td>3.50</td>\n",
       "      <td>0.134</td>\n",
       "      <td>3</td>\n",
       "      <td>0</td>\n",
       "      <td>1</td>\n",
       "      <td>22262</td>\n",
       "      <td>0</td>\n",
       "    </tr>\n",
       "    <tr>\n",
       "      <th>4996</th>\n",
       "      <td>56</td>\n",
       "      <td>20000.0</td>\n",
       "      <td>798</td>\n",
       "      <td>8.26</td>\n",
       "      <td>0.288</td>\n",
       "      <td>3</td>\n",
       "      <td>2</td>\n",
       "      <td>1</td>\n",
       "      <td>8700</td>\n",
       "      <td>0</td>\n",
       "    </tr>\n",
       "    <tr>\n",
       "      <th>4997</th>\n",
       "      <td>80</td>\n",
       "      <td>20656.0</td>\n",
       "      <td>807</td>\n",
       "      <td>7.60</td>\n",
       "      <td>0.252</td>\n",
       "      <td>5</td>\n",
       "      <td>1</td>\n",
       "      <td>1</td>\n",
       "      <td>9876</td>\n",
       "      <td>0</td>\n",
       "    </tr>\n",
       "    <tr>\n",
       "      <th>4998</th>\n",
       "      <td>57</td>\n",
       "      <td>53993.0</td>\n",
       "      <td>544</td>\n",
       "      <td>3.40</td>\n",
       "      <td>0.422</td>\n",
       "      <td>2</td>\n",
       "      <td>1</td>\n",
       "      <td>1</td>\n",
       "      <td>8790</td>\n",
       "      <td>0</td>\n",
       "    </tr>\n",
       "    <tr>\n",
       "      <th>4999</th>\n",
       "      <td>32</td>\n",
       "      <td>60810.0</td>\n",
       "      <td>632</td>\n",
       "      <td>3.00</td>\n",
       "      <td>0.038</td>\n",
       "      <td>4</td>\n",
       "      <td>1</td>\n",
       "      <td>0</td>\n",
       "      <td>16616</td>\n",
       "      <td>0</td>\n",
       "    </tr>\n",
       "  </tbody>\n",
       "</table>\n",
       "<p>1500 rows × 10 columns</p>\n",
       "</div>"
      ],
      "text/plain": [
       "      age    income  credit_score  years_employed  debt_to_income  \\\n",
       "3500   63  269510.0           702            9.00           0.107   \n",
       "3501   36   25303.0           678            2.70           0.628   \n",
       "3502   46  165399.0           742           16.30           0.053   \n",
       "3503   46   29421.0           715           11.00           0.039   \n",
       "3504   37   20000.0           736            4.40           0.140   \n",
       "...   ...       ...           ...             ...             ...   \n",
       "4995   44  102835.0           541            3.50           0.134   \n",
       "4996   56   20000.0           798            8.26           0.288   \n",
       "4997   80   20656.0           807            7.60           0.252   \n",
       "4998   57   53993.0           544            3.40           0.422   \n",
       "4999   32   60810.0           632            3.00           0.038   \n",
       "\n",
       "      num_credit_cards  education  marital_status  credit_limit  loan_default  \n",
       "3500                 4          0               0         48686             0  \n",
       "3501                 1          2               0          2883             0  \n",
       "3502                 3          0               0         39412             0  \n",
       "3503                 3          1               1         14974             0  \n",
       "3504                 5          0               2         10242             0  \n",
       "...                ...        ...             ...           ...           ...  \n",
       "4995                 3          0               1         22262             0  \n",
       "4996                 3          2               1          8700             0  \n",
       "4997                 5          1               1          9876             0  \n",
       "4998                 2          1               1          8790             0  \n",
       "4999                 4          1               0         16616             0  \n",
       "\n",
       "[1500 rows x 10 columns]"
      ]
     },
     "execution_count": 7,
     "metadata": {},
     "output_type": "execute_result"
    }
   ],
   "source": [
    "test_data"
   ]
  },
  {
   "cell_type": "markdown",
   "id": "88219c32",
   "metadata": {},
   "source": [
    "Now to fit the data to a MLR.\n",
    "Note that:\n",
    "- `credit_limit` is the response variable"
   ]
  },
  {
   "cell_type": "code",
   "execution_count": 72,
   "id": "e3384846",
   "metadata": {},
   "outputs": [
    {
     "data": {
      "text/html": [
       "<table class=\"simpletable\">\n",
       "<caption>OLS Regression Results</caption>\n",
       "<tr>\n",
       "  <th>Dep. Variable:</th>            <td>y</td>        <th>  R-squared (uncentered):</th>      <td>   0.834</td> \n",
       "</tr>\n",
       "<tr>\n",
       "  <th>Model:</th>                   <td>OLS</td>       <th>  Adj. R-squared (uncentered):</th> <td>   0.833</td> \n",
       "</tr>\n",
       "<tr>\n",
       "  <th>Method:</th>             <td>Least Squares</td>  <th>  F-statistic:       </th>          <td>   2188.</td> \n",
       "</tr>\n",
       "<tr>\n",
       "  <th>Date:</th>             <td>Wed, 20 Aug 2025</td> <th>  Prob (F-statistic):</th>           <td>  0.00</td>  \n",
       "</tr>\n",
       "<tr>\n",
       "  <th>Time:</th>                 <td>17:46:02</td>     <th>  Log-Likelihood:    </th>          <td> -35989.</td> \n",
       "</tr>\n",
       "<tr>\n",
       "  <th>No. Observations:</th>      <td>  3500</td>      <th>  AIC:               </th>          <td>7.199e+04</td>\n",
       "</tr>\n",
       "<tr>\n",
       "  <th>Df Residuals:</th>          <td>  3492</td>      <th>  BIC:               </th>          <td>7.204e+04</td>\n",
       "</tr>\n",
       "<tr>\n",
       "  <th>Df Model:</th>              <td>     8</td>      <th>                     </th>              <td> </td>    \n",
       "</tr>\n",
       "<tr>\n",
       "  <th>Covariance Type:</th>      <td>nonrobust</td>    <th>                     </th>              <td> </td>    \n",
       "</tr>\n",
       "</table>\n",
       "<table class=\"simpletable\">\n",
       "<tr>\n",
       "          <td></td>            <th>coef</th>     <th>std err</th>      <th>t</th>      <th>P>|t|</th>  <th>[0.025</th>    <th>0.975]</th>  \n",
       "</tr>\n",
       "<tr>\n",
       "  <th>age</th>              <td>  -85.6472</td> <td>  119.739</td> <td>   -0.715</td> <td> 0.474</td> <td> -320.412</td> <td>  149.118</td>\n",
       "</tr>\n",
       "<tr>\n",
       "  <th>income</th>           <td> 7209.3665</td> <td>  119.841</td> <td>   60.158</td> <td> 0.000</td> <td> 6974.402</td> <td> 7444.331</td>\n",
       "</tr>\n",
       "<tr>\n",
       "  <th>credit_score</th>     <td>  979.7520</td> <td>  119.739</td> <td>    8.182</td> <td> 0.000</td> <td>  744.987</td> <td> 1214.517</td>\n",
       "</tr>\n",
       "<tr>\n",
       "  <th>years_employed</th>   <td> 2795.1014</td> <td>  119.871</td> <td>   23.318</td> <td> 0.000</td> <td> 2560.077</td> <td> 3030.126</td>\n",
       "</tr>\n",
       "<tr>\n",
       "  <th>debt_to_income</th>   <td>-2016.3242</td> <td>  119.795</td> <td>  -16.832</td> <td> 0.000</td> <td>-2251.199</td> <td>-1781.450</td>\n",
       "</tr>\n",
       "<tr>\n",
       "  <th>num_credit_cards</th> <td> -436.5075</td> <td>  119.733</td> <td>   -3.646</td> <td> 0.000</td> <td> -671.261</td> <td> -201.754</td>\n",
       "</tr>\n",
       "<tr>\n",
       "  <th>education</th>        <td> 5694.5199</td> <td>   87.262</td> <td>   65.258</td> <td> 0.000</td> <td> 5523.431</td> <td> 5865.609</td>\n",
       "</tr>\n",
       "<tr>\n",
       "  <th>marital_status</th>   <td> 4867.3359</td> <td>  149.342</td> <td>   32.592</td> <td> 0.000</td> <td> 4574.529</td> <td> 5160.143</td>\n",
       "</tr>\n",
       "</table>\n",
       "<table class=\"simpletable\">\n",
       "<tr>\n",
       "  <th>Omnibus:</th>       <td>33.401</td> <th>  Durbin-Watson:     </th> <td>   1.616</td>\n",
       "</tr>\n",
       "<tr>\n",
       "  <th>Prob(Omnibus):</th> <td> 0.000</td> <th>  Jarque-Bera (JB):  </th> <td>  43.348</td>\n",
       "</tr>\n",
       "<tr>\n",
       "  <th>Skew:</th>          <td> 0.141</td> <th>  Prob(JB):          </th> <td>3.87e-10</td>\n",
       "</tr>\n",
       "<tr>\n",
       "  <th>Kurtosis:</th>      <td> 3.467</td> <th>  Cond. No.          </th> <td>    2.53</td>\n",
       "</tr>\n",
       "</table><br/><br/>Notes:<br/>[1] R² is computed without centering (uncentered) since the model does not contain a constant.<br/>[2] Standard Errors assume that the covariance matrix of the errors is correctly specified."
      ],
      "text/latex": [
       "\\begin{center}\n",
       "\\begin{tabular}{lclc}\n",
       "\\toprule\n",
       "\\textbf{Dep. Variable:}     &        y         & \\textbf{  R-squared (uncentered):}      &     0.834   \\\\\n",
       "\\textbf{Model:}             &       OLS        & \\textbf{  Adj. R-squared (uncentered):} &     0.833   \\\\\n",
       "\\textbf{Method:}            &  Least Squares   & \\textbf{  F-statistic:       }          &     2188.   \\\\\n",
       "\\textbf{Date:}              & Wed, 20 Aug 2025 & \\textbf{  Prob (F-statistic):}          &     0.00    \\\\\n",
       "\\textbf{Time:}              &     17:46:02     & \\textbf{  Log-Likelihood:    }          &   -35989.   \\\\\n",
       "\\textbf{No. Observations:}  &        3500      & \\textbf{  AIC:               }          & 7.199e+04   \\\\\n",
       "\\textbf{Df Residuals:}      &        3492      & \\textbf{  BIC:               }          & 7.204e+04   \\\\\n",
       "\\textbf{Df Model:}          &           8      & \\textbf{                     }          &             \\\\\n",
       "\\textbf{Covariance Type:}   &    nonrobust     & \\textbf{                     }          &             \\\\\n",
       "\\bottomrule\n",
       "\\end{tabular}\n",
       "\\begin{tabular}{lcccccc}\n",
       "                            & \\textbf{coef} & \\textbf{std err} & \\textbf{t} & \\textbf{P$> |$t$|$} & \\textbf{[0.025} & \\textbf{0.975]}  \\\\\n",
       "\\midrule\n",
       "\\textbf{age}                &     -85.6472  &      119.739     &    -0.715  &         0.474        &     -320.412    &      149.118     \\\\\n",
       "\\textbf{income}             &    7209.3665  &      119.841     &    60.158  &         0.000        &     6974.402    &     7444.331     \\\\\n",
       "\\textbf{credit\\_score}      &     979.7520  &      119.739     &     8.182  &         0.000        &      744.987    &     1214.517     \\\\\n",
       "\\textbf{years\\_employed}    &    2795.1014  &      119.871     &    23.318  &         0.000        &     2560.077    &     3030.126     \\\\\n",
       "\\textbf{debt\\_to\\_income}   &   -2016.3242  &      119.795     &   -16.832  &         0.000        &    -2251.199    &    -1781.450     \\\\\n",
       "\\textbf{num\\_credit\\_cards} &    -436.5075  &      119.733     &    -3.646  &         0.000        &     -671.261    &     -201.754     \\\\\n",
       "\\textbf{education}          &    5694.5199  &       87.262     &    65.258  &         0.000        &     5523.431    &     5865.609     \\\\\n",
       "\\textbf{marital\\_status}    &    4867.3359  &      149.342     &    32.592  &         0.000        &     4574.529    &     5160.143     \\\\\n",
       "\\bottomrule\n",
       "\\end{tabular}\n",
       "\\begin{tabular}{lclc}\n",
       "\\textbf{Omnibus:}       & 33.401 & \\textbf{  Durbin-Watson:     } &    1.616  \\\\\n",
       "\\textbf{Prob(Omnibus):} &  0.000 & \\textbf{  Jarque-Bera (JB):  } &   43.348  \\\\\n",
       "\\textbf{Skew:}          &  0.141 & \\textbf{  Prob(JB):          } & 3.87e-10  \\\\\n",
       "\\textbf{Kurtosis:}      &  3.467 & \\textbf{  Cond. No.          } &     2.53  \\\\\n",
       "\\bottomrule\n",
       "\\end{tabular}\n",
       "%\\caption{OLS Regression Results}\n",
       "\\end{center}\n",
       "\n",
       "Notes: \\newline\n",
       " [1] R² is computed without centering (uncentered) since the model does not contain a constant. \\newline\n",
       " [2] Standard Errors assume that the covariance matrix of the errors is correctly specified."
      ],
      "text/plain": [
       "<class 'statsmodels.iolib.summary.Summary'>\n",
       "\"\"\"\n",
       "                                 OLS Regression Results                                \n",
       "=======================================================================================\n",
       "Dep. Variable:                      y   R-squared (uncentered):                   0.834\n",
       "Model:                            OLS   Adj. R-squared (uncentered):              0.833\n",
       "Method:                 Least Squares   F-statistic:                              2188.\n",
       "Date:                Wed, 20 Aug 2025   Prob (F-statistic):                        0.00\n",
       "Time:                        17:46:02   Log-Likelihood:                         -35989.\n",
       "No. Observations:                3500   AIC:                                  7.199e+04\n",
       "Df Residuals:                    3492   BIC:                                  7.204e+04\n",
       "Df Model:                           8                                                  \n",
       "Covariance Type:            nonrobust                                                  \n",
       "====================================================================================\n",
       "                       coef    std err          t      P>|t|      [0.025      0.975]\n",
       "------------------------------------------------------------------------------------\n",
       "age                -85.6472    119.739     -0.715      0.474    -320.412     149.118\n",
       "income            7209.3665    119.841     60.158      0.000    6974.402    7444.331\n",
       "credit_score       979.7520    119.739      8.182      0.000     744.987    1214.517\n",
       "years_employed    2795.1014    119.871     23.318      0.000    2560.077    3030.126\n",
       "debt_to_income   -2016.3242    119.795    -16.832      0.000   -2251.199   -1781.450\n",
       "num_credit_cards  -436.5075    119.733     -3.646      0.000    -671.261    -201.754\n",
       "education         5694.5199     87.262     65.258      0.000    5523.431    5865.609\n",
       "marital_status    4867.3359    149.342     32.592      0.000    4574.529    5160.143\n",
       "==============================================================================\n",
       "Omnibus:                       33.401   Durbin-Watson:                   1.616\n",
       "Prob(Omnibus):                  0.000   Jarque-Bera (JB):               43.348\n",
       "Skew:                           0.141   Prob(JB):                     3.87e-10\n",
       "Kurtosis:                       3.467   Cond. No.                         2.53\n",
       "==============================================================================\n",
       "\n",
       "Notes:\n",
       "[1] R² is computed without centering (uncentered) since the model does not contain a constant.\n",
       "[2] Standard Errors assume that the covariance matrix of the errors is correctly specified.\n",
       "\"\"\""
      ]
     },
     "execution_count": 72,
     "metadata": {},
     "output_type": "execute_result"
    }
   ],
   "source": [
    "training_predictors = training_data.columns.drop(['credit_limit', 'loan_default', 'education', 'marital_status']).to_list()\n",
    "\n",
    "# The dataset to be used in the regression\n",
    "training_data_X = training_data[training_predictors]\n",
    "\n",
    "# Experimenting with adjusting the scaling of the variables\n",
    "scaler = StandardScaler()\n",
    "X_train_scaled = scaler.fit_transform(training_data_X)\n",
    "\n",
    "X_train_scaled = pd.DataFrame(X_train_scaled, columns=training_predictors)\n",
    "X_train_scaled['education'] = training_data['education']\n",
    "X_train_scaled['marital_status'] = training_data['marital_status']\n",
    "\n",
    "train_design = MS(training_predictors)\n",
    "train_design = train_design.fit(training_data_X)\n",
    "X_train = train_design.transform(training_data)\n",
    "\n",
    "\n",
    "mlr_model = sm.OLS(np.array(training_data['credit_limit']), X_train_scaled)\n",
    "\n",
    "results = mlr_model.fit()\n",
    "results.summary()"
   ]
  },
  {
   "cell_type": "markdown",
   "id": "5323f492",
   "metadata": {},
   "source": [
    "<b>Need to discuss the multicolinearity in the report</b>"
   ]
  },
  {
   "cell_type": "code",
   "execution_count": 12,
   "id": "4402f83a",
   "metadata": {},
   "outputs": [
    {
     "data": {
      "text/plain": [
       "<Axes: >"
      ]
     },
     "execution_count": 12,
     "metadata": {},
     "output_type": "execute_result"
    },
    {
     "data": {
      "image/png": "[encoded data removed]",
      "text/plain": [
       "<Figure size 640x480 with 2 Axes>"
      ]
     },
     "metadata": {},
     "output_type": "display_data"
    }
   ],
   "source": [
    "sns.heatmap(training_data.corr())"
   ]
  },
  {
   "cell_type": "markdown",
   "id": "997a8e6e",
   "metadata": {},
   "source": [
    "<b>Model Selection (4 marks)</b>\n",
    "- Implement forward selection using AIC (1)\n",
    "- Implement backward elimination using AIC (1)\n",
    "- Compare the selected variables from both methods. Discuss which approach selects more variables and why (1)"
   ]
  },
  {
   "cell_type": "code",
   "execution_count": null,
   "id": "28b4e734",
   "metadata": {},
   "outputs": [
    {
     "ename": "ValueError",
     "evalue": "shapes (3500,8) and (3500,8) not aligned: 8 (dim 1) != 3500 (dim 0)",
     "output_type": "error",
     "traceback": [
      "\u001b[31m---------------------------------------------------------------------------\u001b[39m",
      "\u001b[31mValueError\u001b[39m                                Traceback (most recent call last)",
      "\u001b[36mCell\u001b[39m\u001b[36m \u001b[39m\u001b[32mIn[73]\u001b[39m\u001b[32m, line 12\u001b[39m\n\u001b[32m      9\u001b[39m Y = np.array(training_data[\u001b[33m'\u001b[39m\u001b[33mcredit_limit\u001b[39m\u001b[33m'\u001b[39m])\n\u001b[32m     10\u001b[39m X = train_design.transform(training_data)\n\u001b[32m---> \u001b[39m\u001b[32m12\u001b[39m sigma_2 = \u001b[43msm\u001b[49m\u001b[43m.\u001b[49m\u001b[43mOLS\u001b[49m\u001b[43m(\u001b[49m\u001b[43mX_train_scaled\u001b[49m\u001b[43m,\u001b[49m\u001b[43m \u001b[49m\u001b[43mY\u001b[49m\u001b[43m)\u001b[49m\u001b[43m.\u001b[49m\u001b[43mfit\u001b[49m\u001b[43m(\u001b[49m\u001b[43m)\u001b[49m\u001b[43m.\u001b[49m\u001b[43mscale\u001b[49m \n\u001b[32m     13\u001b[39m negative_cp = partial(mallory_cp, sigma_2)\n",
      "\u001b[36mFile \u001b[39m\u001b[32m~/GitHub/MXN442-Codebase/mxn442_venv/lib/python3.12/site-packages/statsmodels/base/wrapper.py:34\u001b[39m, in \u001b[36mResultsWrapper.__getattribute__\u001b[39m\u001b[34m(self, attr)\u001b[39m\n\u001b[32m     31\u001b[39m \u001b[38;5;28;01mexcept\u001b[39;00m \u001b[38;5;167;01mAttributeError\u001b[39;00m:\n\u001b[32m     32\u001b[39m     \u001b[38;5;28;01mpass\u001b[39;00m\n\u001b[32m---> \u001b[39m\u001b[32m34\u001b[39m obj = \u001b[38;5;28;43mgetattr\u001b[39;49m\u001b[43m(\u001b[49m\u001b[43mresults\u001b[49m\u001b[43m,\u001b[49m\u001b[43m \u001b[49m\u001b[43mattr\u001b[49m\u001b[43m)\u001b[49m\n\u001b[32m     35\u001b[39m data = results.model.data\n\u001b[32m     36\u001b[39m how = \u001b[38;5;28mself\u001b[39m._wrap_attrs.get(attr)\n",
      "\u001b[36mFile \u001b[39m\u001b[32m~/GitHub/MXN442-Codebase/mxn442_venv/lib/python3.12/site-packages/statsmodels/tools/decorators.py:95\u001b[39m, in \u001b[36mCachedAttribute.__get__\u001b[39m\u001b[34m(self, obj, type)\u001b[39m\n\u001b[32m     93\u001b[39m _cachedval = _cache.get(name, \u001b[38;5;28;01mNone\u001b[39;00m)\n\u001b[32m     94\u001b[39m \u001b[38;5;28;01mif\u001b[39;00m _cachedval \u001b[38;5;129;01mis\u001b[39;00m \u001b[38;5;28;01mNone\u001b[39;00m:\n\u001b[32m---> \u001b[39m\u001b[32m95\u001b[39m     _cachedval = \u001b[38;5;28;43mself\u001b[39;49m\u001b[43m.\u001b[49m\u001b[43mfget\u001b[49m\u001b[43m(\u001b[49m\u001b[43mobj\u001b[49m\u001b[43m)\u001b[49m\n\u001b[32m     96\u001b[39m     _cache[name] = _cachedval\n\u001b[32m     98\u001b[39m \u001b[38;5;28;01mreturn\u001b[39;00m _cachedval\n",
      "\u001b[36mFile \u001b[39m\u001b[32m~/GitHub/MXN442-Codebase/mxn442_venv/lib/python3.12/site-packages/statsmodels/regression/linear_model.py:1717\u001b[39m, in \u001b[36mRegressionResults.scale\u001b[39m\u001b[34m(self)\u001b[39m\n\u001b[32m   1710\u001b[39m \u001b[38;5;250m\u001b[39m\u001b[33;03m\"\"\"\u001b[39;00m\n\u001b[32m   1711\u001b[39m \u001b[33;03mA scale factor for the covariance matrix.\u001b[39;00m\n\u001b[32m   1712\u001b[39m \n\u001b[32m   1713\u001b[39m \u001b[33;03mThe Default value is ssr/(n-p).  Note that the square root of `scale`\u001b[39;00m\n\u001b[32m   1714\u001b[39m \u001b[33;03mis often called the standard error of the regression.\u001b[39;00m\n\u001b[32m   1715\u001b[39m \u001b[33;03m\"\"\"\u001b[39;00m\n\u001b[32m   1716\u001b[39m wresid = \u001b[38;5;28mself\u001b[39m.wresid\n\u001b[32m-> \u001b[39m\u001b[32m1717\u001b[39m \u001b[38;5;28;01mreturn\u001b[39;00m \u001b[43mnp\u001b[49m\u001b[43m.\u001b[49m\u001b[43mdot\u001b[49m\u001b[43m(\u001b[49m\u001b[43mwresid\u001b[49m\u001b[43m,\u001b[49m\u001b[43m \u001b[49m\u001b[43mwresid\u001b[49m\u001b[43m)\u001b[49m / \u001b[38;5;28mself\u001b[39m.df_resid\n",
      "\u001b[31mValueError\u001b[39m: shapes (3500,8) and (3500,8) not aligned: 8 (dim 1) != 3500 (dim 0)"
     ]
    }
   ],
   "source": [
    "# Defining the mallory CP Function for scoring \n",
    "def mallory_cp(sigma2 , estimator , X, Y):\n",
    "    \" Negative Cp statistic \"\n",
    "    n, p = X.shape\n",
    "    Yhat = estimator .predict(X)\n",
    "    RSS = np.sum ((Y - Yhat)**2)\n",
    "    return -(RSS + 2 * p * sigma2) / n\n",
    "\n",
    "Y = np.array(training_data['credit_limit'])\n",
    "X = train_design.transform(training_data)\n",
    "\n",
    "sigma_2 = sm.OLS(training_data_X, Y).fit().scale \n",
    "negative_cp = partial(mallory_cp, sigma_2)"
   ]
  },
  {
   "cell_type": "code",
   "execution_count": 35,
   "id": "26f8a4c9",
   "metadata": {},
   "outputs": [
    {
     "data": {
      "text/plain": [
       "True"
      ]
     },
     "execution_count": 35,
     "metadata": {},
     "output_type": "execute_result"
    }
   ],
   "source": [
    "forward_MSE.selected_state_ == backward_MSE.selected_state_"
   ]
  },
  {
   "cell_type": "markdown",
   "id": "4261aa55",
   "metadata": {},
   "source": [
    "<b>Regularisation (5 marks)</b>\n",
    "- Implement Ridge and Lasso Regression with 5-fold cross validation (2)\n",
    "- Plot the cross-validation error vs lambda for both methods (1)\n",
    "- Calculate test set RMSE for all five models (full, forward, backward, Ridge, Lasso) (2)"
   ]
  },
  {
   "cell_type": "code",
   "execution_count": null,
   "id": "b9bb15ab",
   "metadata": {},
   "outputs": [],
   "source": []
  },
  {
   "cell_type": "markdown",
   "id": "2e2cdc61",
   "metadata": {},
   "source": [
    "**Can consider a range of values for lambda**"
   ]
  },
  {
   "cell_type": "code",
   "execution_count": null,
   "id": "b39ae9b3",
   "metadata": {},
   "outputs": [],
   "source": []
  },
  {
   "cell_type": "markdown",
   "id": "a73a896e",
   "metadata": {},
   "source": []
  }
 ],
 "metadata": {
  "kernelspec": {
   "display_name": "mxn442_venv",
   "language": "python",
   "name": "python3"
  },
  "language_info": {
   "codemirror_mode": {
    "name": "ipython",
    "version": 3
   },
   "file_extension": ".py",
   "mimetype": "text/x-python",
   "name": "python",
   "nbconvert_exporter": "python",
   "pygments_lexer": "ipython3",
   "version": "3.12.7"
  }
 },
 "nbformat": 4,
 "nbformat_minor": 5
}
